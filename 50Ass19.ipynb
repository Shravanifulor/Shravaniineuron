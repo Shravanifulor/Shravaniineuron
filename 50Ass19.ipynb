{
 "cells": [
  {
   "cell_type": "markdown",
   "id": "204a1845-ba65-4b2d-80be-88c8d941b2fa",
   "metadata": {},
   "source": [
    "Question1\n",
    "Create a function that takes a string and returns a string in which each character is repeated\n",
    "once.\n",
    "Examples\n",
    "double_char(\"String\") ➞ \"SSttrriinngg\"\n",
    "double_char(\"Hello World!\") ➞ \"HHeelllloo WWoorrlldd!!\"\n",
    "double_char(\"1234!_ \") ➞ \"11223344!!_\"\n",
    "Ans:-"
   ]
  },
  {
   "cell_type": "code",
   "execution_count": 1,
   "id": "cc0bdb30-f2d6-45d0-8467-d30a026358a4",
   "metadata": {},
   "outputs": [
    {
     "name": "stdout",
     "output_type": "stream",
     "text": [
      "aakkaasshh\n"
     ]
    }
   ],
   "source": [
    "def double(str):\n",
    "    return ''.join([c+c for c in str])\n",
    "print(double('akash'))"
   ]
  },
  {
   "cell_type": "code",
   "execution_count": 2,
   "id": "705c3eaa-e654-44e0-98f1-e6e4809c719b",
   "metadata": {},
   "outputs": [
    {
     "name": "stdout",
     "output_type": "stream",
     "text": [
      "SSttrriinngg\n"
     ]
    }
   ],
   "source": [
    "print(double('String'))"
   ]
  },
  {
   "cell_type": "code",
   "execution_count": 3,
   "id": "04fbcbc5-1733-470b-a7af-bb42374ffe53",
   "metadata": {},
   "outputs": [
    {
     "name": "stdout",
     "output_type": "stream",
     "text": [
      "HHeelllloo  WWoorrlldd!!\n"
     ]
    }
   ],
   "source": [
    "print(double('Hello World!'))"
   ]
  },
  {
   "cell_type": "code",
   "execution_count": 4,
   "id": "a4288ce5-6523-4ea6-a1e9-345fa4ac88bb",
   "metadata": {},
   "outputs": [
    {
     "name": "stdout",
     "output_type": "stream",
     "text": [
      "11223344!!__  \n"
     ]
    }
   ],
   "source": [
    "print(double('1234!_ '))"
   ]
  },
  {
   "cell_type": "markdown",
   "id": "27800f93-a725-41c9-9295-8f44009742dd",
   "metadata": {},
   "source": [
    "Question2\n",
    "Create a function that reverses a boolean value and returns the string 'boolean expected'\n",
    "if another variable type is given.\n",
    "Examples\n",
    "reverse(True) ➞ False\n",
    "reverse(False) ➞ True\n",
    "reverse(0) ➞ 'boolean expected'\n",
    "reverse(None) ➞ 'boolean expected'\n",
    "Ans:-"
   ]
  },
  {
   "cell_type": "code",
   "execution_count": 5,
   "id": "68df74c0-a89b-4270-a28d-b67368e4007e",
   "metadata": {},
   "outputs": [],
   "source": [
    "def reverse(arg=None):\n",
    "    return not arg if type(arg) == bool else \"boolean expected\"\n"
   ]
  },
  {
   "cell_type": "code",
   "execution_count": 6,
   "id": "b7fabdc1-8a28-477d-9dc4-7ea106952c38",
   "metadata": {},
   "outputs": [
    {
     "name": "stdout",
     "output_type": "stream",
     "text": [
      "False\n",
      "True\n",
      "boolean expected\n",
      "boolean expected\n"
     ]
    }
   ],
   "source": [
    "print(reverse(True)) # False\n",
    "print(reverse(False)) # True\n",
    "print(reverse(0)) # \"boolean expected\"\n",
    "print(reverse(None)) # \"boolean expected\""
   ]
  },
  {
   "cell_type": "markdown",
   "id": "d865d8ad-0131-4ce0-919b-be5997db25e4",
   "metadata": {},
   "source": [
    "Question3\n",
    "Create a function that returns the thickness (in meters) of a piece of paper after folding it n\n",
    "number of times. The paper starts off with a thickness of 0.5mm.\n",
    "Examples\n",
    "num_layers(1) ➞ '0.001m'\n",
    "# Paper folded once is 1mm (equal to 0.001m)\n",
    "num_layers(4) ➞ '0.008m'\n",
    "# Paper folded 4 times is 8mm (equal to 0.008m)\n",
    "num_layers(21) ➞ '1048.576m'\n",
    "# Paper folded 21 times is 1048576mm (equal to 1048.576m)\n",
    "Ans:-"
   ]
  },
  {
   "cell_type": "code",
   "execution_count": 7,
   "id": "55a05886-6444-4916-8b2c-0bc8c005d4b2",
   "metadata": {},
   "outputs": [
    {
     "name": "stdout",
     "output_type": "stream",
     "text": [
      "0.001m\n",
      "0.008m\n",
      "1048.576m\n"
     ]
    }
   ],
   "source": [
    "def num_layers(n):\n",
    "    thickness = 0.5\n",
    "    for _ in range(n):\n",
    "        thickness *= 2\n",
    "    \n",
    "    return str(thickness / 1000)+'m' # for meters\n",
    "\n",
    "print(num_layers(1))\n",
    "print(num_layers(4))\n",
    "print(num_layers(21))"
   ]
  },
  {
   "cell_type": "markdown",
   "id": "37f8a719-6d8f-405f-8719-058a8a0ee201",
   "metadata": {},
   "source": [
    "Question4\n",
    "Create a function that takes a single string as argument and returns an ordered list containing\n",
    "the indices of all capital letters in the string.\n",
    "Examples\n",
    "index_of_caps('eDaBiT') ➞ [1, 3, 5]\n",
    "index_of_caps('eQuINoX') ➞ [1, 3, 4, 6]\n",
    "index_of_caps('determine') ➞ []\n",
    "index_of_caps('STRIKE') ➞ [0, 1, 2, 3, 4, 5]\n",
    "index_of_caps('sUn') ➞ [1]\n",
    "Ans:-"
   ]
  },
  {
   "cell_type": "code",
   "execution_count": 8,
   "id": "54505fe0-1153-4110-a45b-09e9e892290f",
   "metadata": {},
   "outputs": [
    {
     "name": "stdout",
     "output_type": "stream",
     "text": [
      "[0, 3]\n",
      "[1, 3, 5]\n",
      "[1, 3, 4, 6]\n",
      "[]\n",
      "[0, 1, 2, 3, 4, 5]\n",
      "[1]\n"
     ]
    }
   ],
   "source": [
    "def index_of_caps(word):\n",
    "    indices = []\n",
    "    for i in range(len(word)):\n",
    "        if word[i].isupper():\n",
    "             indices.append(i)\n",
    "    return indices\n",
    "\n",
    "print(index_of_caps('BhaNu'))\n",
    "print(index_of_caps('eDaBiT'))\n",
    "print(index_of_caps('eQuINoX')) \n",
    "print(index_of_caps('determine'))\n",
    "print(index_of_caps('STRIKE'))\n",
    "print(index_of_caps('sUn'))"
   ]
  },
  {
   "cell_type": "markdown",
   "id": "45df04e0-b0db-4192-a581-35414246bdd0",
   "metadata": {},
   "source": [
    "Question5\n",
    "Using list comprehensions, create a function that finds all even numbers from 1 to the given\n",
    "number.\n",
    "Examples\n",
    "find_even_nums(8) ➞ [2, 4, 6, 8]\n",
    "find_even_nums(4) ➞ [2, 4]\n",
    "find_even_nums(2) ➞ [2]\n",
    "Ans:-"
   ]
  },
  {
   "cell_type": "code",
   "execution_count": 9,
   "id": "508b03cb-ee25-497b-8534-d63611bac5cb",
   "metadata": {},
   "outputs": [
    {
     "name": "stdin",
     "output_type": "stream",
     "text": [
      "Enter a number :  10\n"
     ]
    },
    {
     "data": {
      "text/plain": [
       "[2, 4, 6, 8, 10]"
      ]
     },
     "execution_count": 9,
     "metadata": {},
     "output_type": "execute_result"
    }
   ],
   "source": [
    "def find_even_nums(n):\n",
    "    even =[x for x in range(2,n+1) if x % 2 == 0]\n",
    "    return even\n",
    "\n",
    "n = int(input('Enter a number : '))\n",
    "find_even_nums(n)"
   ]
  },
  {
   "cell_type": "code",
   "execution_count": 10,
   "id": "98334d48-5a21-4146-91f3-f7411408c3e9",
   "metadata": {},
   "outputs": [
    {
     "data": {
      "text/plain": [
       "[2, 4, 6, 8]"
      ]
     },
     "execution_count": 10,
     "metadata": {},
     "output_type": "execute_result"
    }
   ],
   "source": [
    "find_even_nums(8)"
   ]
  },
  {
   "cell_type": "code",
   "execution_count": 11,
   "id": "d9a158c5-49c2-4383-a90b-aef2644d1a27",
   "metadata": {},
   "outputs": [
    {
     "data": {
      "text/plain": [
       "[2, 4]"
      ]
     },
     "execution_count": 11,
     "metadata": {},
     "output_type": "execute_result"
    }
   ],
   "source": [
    "find_even_nums(4)"
   ]
  },
  {
   "cell_type": "code",
   "execution_count": 12,
   "id": "ed94c348-18e3-44bc-872d-f9f1ad69e913",
   "metadata": {},
   "outputs": [
    {
     "data": {
      "text/plain": [
       "[2]"
      ]
     },
     "execution_count": 12,
     "metadata": {},
     "output_type": "execute_result"
    }
   ],
   "source": [
    "find_even_nums(2)"
   ]
  },
  {
   "cell_type": "markdown",
   "id": "28662772-c0a6-40c6-84df-062b3988ef89",
   "metadata": {},
   "source": []
  }
 ],
 "metadata": {
  "kernelspec": {
   "display_name": "Python 3 (ipykernel)",
   "language": "python",
   "name": "python3"
  },
  "language_info": {
   "codemirror_mode": {
    "name": "ipython",
    "version": 3
   },
   "file_extension": ".py",
   "mimetype": "text/x-python",
   "name": "python",
   "nbconvert_exporter": "python",
   "pygments_lexer": "ipython3",
   "version": "3.10.6"
  }
 },
 "nbformat": 4,
 "nbformat_minor": 5
}
