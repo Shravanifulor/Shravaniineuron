{
 "cells": [
  {
   "cell_type": "markdown",
   "id": "54ba4c7e-a627-439e-810c-eb4adf394742",
   "metadata": {},
   "source": [
    "1. Write a Python program to find sum of elements in list?\n",
    "Ans:-"
   ]
  },
  {
   "cell_type": "code",
   "execution_count": 1,
   "id": "c572a629-ea1e-4f85-92c5-cd340427dc3b",
   "metadata": {},
   "outputs": [
    {
     "name": "stdout",
     "output_type": "stream",
     "text": [
      "Sum of all elements in given list:  74\n"
     ]
    }
   ],
   "source": [
    "# Python program to find sum of elements in list\n",
    "\n",
    "total = 0\n",
    "\n",
    "# creating a list\n",
    "list1 = [11, 5, 17, 18, 23]\n",
    "\n",
    "# Iterate each element in list\n",
    "# and add them in variable total\n",
    "for ele in range(0, len(list1)):\n",
    "\ttotal = total + list1[ele]\n",
    "\n",
    "# printing total value\n",
    "print(\"Sum of all elements in given list: \", total)\n"
   ]
  },
  {
   "cell_type": "markdown",
   "id": "183c28a3-0933-4294-b00a-69de0066bb83",
   "metadata": {},
   "source": [
    "2. Write a Python program to Multiply all numbers in the list?\n",
    "Ans?:-"
   ]
  },
  {
   "cell_type": "code",
   "execution_count": 2,
   "id": "a7c16a3e-02b1-4d49-8c78-1b230dcef3c5",
   "metadata": {},
   "outputs": [
    {
     "name": "stdout",
     "output_type": "stream",
     "text": [
      "6\n",
      "24\n"
     ]
    }
   ],
   "source": [
    "# Python program to multiply all values in the\n",
    "# list using traversal\n",
    "\n",
    "\n",
    "def multiplyList(myList):\n",
    "\n",
    "\t# Multiply elements one by one\n",
    "\tresult = 1\n",
    "\tfor x in myList:\n",
    "\t\tresult = result * x\n",
    "\treturn result\n",
    "\n",
    "\n",
    "# Driver code\n",
    "list1 = [1, 2, 3]\n",
    "list2 = [3, 2, 4]\n",
    "print(multiplyList(list1))\n",
    "print(multiplyList(list2))\n"
   ]
  },
  {
   "cell_type": "markdown",
   "id": "c9ba0484-cb64-4684-bc85-d437822a4ba2",
   "metadata": {},
   "source": [
    "3. Write a Python program to find smallest number in a list?\n",
    "Ans:-"
   ]
  },
  {
   "cell_type": "code",
   "execution_count": 3,
   "id": "9c1e8ae5-d1e6-4e19-9500-746460b8f280",
   "metadata": {},
   "outputs": [
    {
     "name": "stdout",
     "output_type": "stream",
     "text": [
      "Smallest element is: 4\n"
     ]
    }
   ],
   "source": [
    "# Python program to find smallest\n",
    "# number in a list\n",
    "\n",
    "# list of numbers\n",
    "list1 = [10, 20, 4, 45, 99]\n",
    "\n",
    "# sorting the list\n",
    "list1.sort()\n",
    "\n",
    "# printing the first element\n",
    "print(\"Smallest element is:\", list1[0])\n"
   ]
  },
  {
   "cell_type": "markdown",
   "id": "f32e8970-5a3e-40e5-9a30-8561d73e9eaf",
   "metadata": {},
   "source": [
    "4. Write a Python program to find largest number in a list?\n",
    "Ans:-"
   ]
  },
  {
   "cell_type": "code",
   "execution_count": 4,
   "id": "4468de41-5be8-42a2-8378-894d3a827f41",
   "metadata": {},
   "outputs": [
    {
     "name": "stdout",
     "output_type": "stream",
     "text": [
      "Largest element is: 99\n"
     ]
    }
   ],
   "source": [
    "# Python program to find largest\n",
    "# number in a list\n",
    "\n",
    "# list of numbers\n",
    "list1 = [10, 20, 4, 45, 99]\n",
    "\n",
    "# sorting the list\n",
    "list1.sort()\n",
    "\n",
    "# printing the last element\n",
    "print(\"Largest element is:\", list1[-1])\n"
   ]
  },
  {
   "cell_type": "markdown",
   "id": "8cb8d696-11ed-41a6-98d9-22ec0fd42f7c",
   "metadata": {},
   "source": [
    "5. Write a Python program to find second largest number in a list?\n",
    "Ans:-"
   ]
  },
  {
   "cell_type": "code",
   "execution_count": 5,
   "id": "0a452fa3-e59d-4420-8759-6be7b1fba28c",
   "metadata": {},
   "outputs": [
    {
     "name": "stdout",
     "output_type": "stream",
     "text": [
      "Second highest number is :  45\n"
     ]
    }
   ],
   "source": [
    "# Python program to find second largest\n",
    "# number in a list\n",
    "\n",
    "# list of numbers - length of\n",
    "# list should be at least 2\n",
    "list1 = [10, 20, 4, 45, 99]\n",
    "\n",
    "mx = max(list1[0], list1[1])\n",
    "secondmax = min(list1[0], list1[1])\n",
    "n = len(list1)\n",
    "for i in range(2,n):\n",
    "\tif list1[i] > mx:\n",
    "\t\tsecondmax = mx\n",
    "\t\tmx = list1[i]\n",
    "\telif list1[i] > secondmax and \\\n",
    "\t\tmx != list1[i]:\n",
    "\t\tsecondmax = list1[i]\n",
    "\telif mx == secondmax and \\\n",
    "\t\tsecondmax != list1[i]:\n",
    "\t\tsecondmax = list1[i]\n",
    "\n",
    "print(\"Second highest number is : \",\\\n",
    "\tstr(secondmax))\n"
   ]
  },
  {
   "cell_type": "markdown",
   "id": "9869f127-eaf2-4360-9338-7c5ddc063395",
   "metadata": {},
   "source": [
    "6. Write a Python program to find N largest elements from a list?\n",
    "Ans:-"
   ]
  },
  {
   "cell_type": "code",
   "execution_count": 6,
   "id": "1cf34c21-59c5-4a72-9b55-80b0a21f48dd",
   "metadata": {},
   "outputs": [
    {
     "name": "stdout",
     "output_type": "stream",
     "text": [
      "[85, 41]\n"
     ]
    }
   ],
   "source": [
    "# Python program to find N largest\n",
    "# element from given list of integers\n",
    "\n",
    "# Function returns N largest elements\n",
    "def Nmaxelements(list1, N):\n",
    "\tfinal_list = []\n",
    "\n",
    "\tfor i in range(0, N):\n",
    "\t\tmax1 = 0\n",
    "\t\t\n",
    "\t\tfor j in range(len(list1)):\t\n",
    "\t\t\tif list1[j] > max1:\n",
    "\t\t\t\tmax1 = list1[j];\n",
    "\t\t\t\t\n",
    "\t\tlist1.remove(max1);\n",
    "\t\tfinal_list.append(max1)\n",
    "\t\t\n",
    "\tprint(final_list)\n",
    "\n",
    "# Driver code\n",
    "list1 = [2, 6, 41, 85, 0, 3, 7, 6, 10]\n",
    "N = 2\n",
    "\n",
    "# Calling the function\n",
    "Nmaxelements(list1, N)\n",
    "\n"
   ]
  },
  {
   "cell_type": "markdown",
   "id": "234ea0d6-440d-47a0-a481-956844067c8b",
   "metadata": {},
   "source": [
    "7. Write a Python program to print even numbers in a list?\n",
    "Ans:-"
   ]
  },
  {
   "cell_type": "code",
   "execution_count": 7,
   "id": "5217fed0-fafa-46ab-adde-566ea3823ea6",
   "metadata": {},
   "outputs": [
    {
     "name": "stdout",
     "output_type": "stream",
     "text": [
      "10 4 66 "
     ]
    }
   ],
   "source": [
    "# Python program to print Even Numbers in a List\n",
    "\n",
    "# list of numbers\n",
    "list1 = [10, 21, 4, 45, 66, 93]\n",
    "\n",
    "# iterating each number in list\n",
    "for num in list1:\n",
    "\n",
    "\t# checking condition\n",
    "\tif num % 2 == 0:\n",
    "\t\tprint(num, end=\" \")\n"
   ]
  },
  {
   "cell_type": "markdown",
   "id": "de882b2c-8482-48a8-93ef-54875790ac1c",
   "metadata": {},
   "source": [
    "8. Write a Python program to print odd numbers in a List?\n",
    "Ans:-"
   ]
  },
  {
   "cell_type": "code",
   "execution_count": 9,
   "id": "e1505a98-ff24-434b-b94c-8851b50d6a1e",
   "metadata": {},
   "outputs": [
    {
     "name": "stdout",
     "output_type": "stream",
     "text": [
      "21 45 93 "
     ]
    }
   ],
   "source": [
    "# Python program to print odd Numbers in a List\n",
    "\n",
    "# list of numbers\n",
    "list1 = [10, 21, 4, 45, 66, 93]\n",
    "i = 0\n",
    "\n",
    "# using while loop\n",
    "while(i < len(list1)):\n",
    "\n",
    "\t# checking condition\n",
    "\tif list1[i] % 2 != 0:\n",
    "\t\tprint(list1[i], end=\" \")\n",
    "\n",
    "\t# increment i\n",
    "\ti += 1\n"
   ]
  },
  {
   "cell_type": "markdown",
   "id": "1efed6d1-d368-4d83-be01-3649a6958cc0",
   "metadata": {},
   "source": [
    "9. Write a Python program to Remove empty List from List?\n",
    "Ans:-"
   ]
  },
  {
   "cell_type": "code",
   "execution_count": 10,
   "id": "ec00702d-67f4-46ab-ae0d-470fb2b9c4b0",
   "metadata": {},
   "outputs": [
    {
     "name": "stdout",
     "output_type": "stream",
     "text": [
      "The original list is : [5, 6, [], 3, [], [], 9]\n",
      "List after empty list removal : [5, 6, 3, 9]\n"
     ]
    }
   ],
   "source": [
    "# Python3 code to Demonstrate Remove empty List\n",
    "# from List using list comprehension\n",
    "\n",
    "# Initializing list\n",
    "test_list = [5, 6, [], 3, [], [], 9]\n",
    "\n",
    "# printing original list\n",
    "print(\"The original list is : \" + str(test_list))\n",
    "\n",
    "# Remove empty List from List\n",
    "# using list comprehension\n",
    "res = [ele for ele in test_list if ele != []]\n",
    "\n",
    "# printing result\n",
    "print(\"List after empty list removal : \" + str(res))\n"
   ]
  },
  {
   "cell_type": "markdown",
   "id": "df8a2257-e8b3-46e4-9972-3f3b0cc4c206",
   "metadata": {},
   "source": [
    "10. Write a Python program to Cloning or Copying a list?\n",
    "Ans:-"
   ]
  },
  {
   "cell_type": "code",
   "execution_count": 11,
   "id": "486bc16b-31ee-4e31-ab4b-ef3f8703abda",
   "metadata": {},
   "outputs": [
    {
     "name": "stdout",
     "output_type": "stream",
     "text": [
      "Original List: [4, 8, 2, 10, 15, 18]\n",
      "After Cloning: [4, 8, 2, 10, 15, 18]\n"
     ]
    }
   ],
   "source": [
    "# Python program to copy or clone a list\n",
    "# Using the Slice Operator\n",
    "def Cloning(li1):\n",
    "\tli_copy = li1[:]\n",
    "\treturn li_copy\n",
    "\n",
    "\n",
    "# Driver Code\n",
    "li1 = [4, 8, 2, 10, 15, 18]\n",
    "li2 = Cloning(li1)\n",
    "print(\"Original List:\", li1)\n",
    "print(\"After Cloning:\", li2)\n"
   ]
  },
  {
   "cell_type": "markdown",
   "id": "76e1dfa1-3345-409b-916c-9f17002c4fde",
   "metadata": {},
   "source": [
    "11. Write a Python program to Count occurrences of an element in a list?\n",
    "Ans:-"
   ]
  },
  {
   "cell_type": "code",
   "execution_count": 12,
   "id": "5ae62189-b030-47be-be81-1941da476030",
   "metadata": {},
   "outputs": [
    {
     "name": "stdout",
     "output_type": "stream",
     "text": [
      "8 has occurred 5 times\n"
     ]
    }
   ],
   "source": [
    "# Python code to count the number of occurrences\n",
    "def countX(lst, x):\n",
    "\tcount = 0\n",
    "\tfor ele in lst:\n",
    "\t\tif (ele == x):\n",
    "\t\t\tcount = count + 1\n",
    "\treturn count\n",
    "\n",
    "\n",
    "# Driver Code\n",
    "lst = [8, 6, 8, 10, 8, 20, 10, 8, 8]\n",
    "x = 8\n",
    "print('{} has occurred {} times'.format(x,\n",
    "\t\t\t\t\t\t\t\t\t\tcountX(lst, x)))\n"
   ]
  }
 ],
 "metadata": {
  "kernelspec": {
   "display_name": "Python 3 (ipykernel)",
   "language": "python",
   "name": "python3"
  },
  "language_info": {
   "codemirror_mode": {
    "name": "ipython",
    "version": 3
   },
   "file_extension": ".py",
   "mimetype": "text/x-python",
   "name": "python",
   "nbconvert_exporter": "python",
   "pygments_lexer": "ipython3",
   "version": "3.10.6"
  }
 },
 "nbformat": 4,
 "nbformat_minor": 5
}
