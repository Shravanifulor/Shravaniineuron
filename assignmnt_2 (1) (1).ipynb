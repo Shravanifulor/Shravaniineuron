{
 "cells": [
  {
   "cell_type": "code",
   "execution_count": null,
   "id": "653c12d7-7dd0-4ad9-ad6b-f7c43887222c",
   "metadata": {},
   "outputs": [],
   "source": [
    "1.What are the two values of the Boolean data type? How do you write them?\n",
    "Ans:-     \n",
    "\n",
    "      True and False, using capital T and F, with the rest of the word in lowercase.\n",
    "   \n",
    "\n",
    "\n",
    "\n",
    "    \n",
    " 2. What are the three different types of Boolean operators?\n",
    "Ans:-  \n",
    "        \n",
    "     and, or, and not.\n",
    "        \n",
    "\n",
    "        \n",
    "        \n",
    "        \n",
    " 3. Make a list of each Boolean operators truth tables (i.e. every possible combination of Boolean\n",
    "    values for the operator and what it evaluate ).\n",
    "Ans:-\n",
    "     \n",
    "      True and True is True.\n",
    "      True and False is False.\n",
    "      False and True is False.\n",
    "      False and False is False.\n",
    "      True or True is True.\n",
    "      True or False is True.\n",
    "      False or True is True.\n",
    "      False or False is False.\n",
    "      not True is False.\n",
    "      not False is True.\n",
    "\n",
    "    \n",
    "    \n",
    " 4. What are the values of the following expressions?\n",
    "     (5 > 4) and (3 == 5)\n",
    "     not (5 > 4)\n",
    "     (5 > 4) or (3 == 5)\n",
    "     not ((5 > 4) or (3 == 5))\n",
    "     (True and True) and (True == False)\n",
    "     (not False) or (not True)\n",
    "Ans:- \n",
    "\n",
    "      False\n",
    "      False\n",
    "      True\n",
    "      False\n",
    "      False\n",
    "      True\n",
    "\n",
    "        \n",
    "        \n",
    " 5. What are the six comparison operators?\n",
    "Ans:-\n",
    "       ==, !=, <,>,<=,and >=\n",
    "    \n",
    "    \n",
    "    \n",
    "    \n",
    " \n",
    "6. How do you tell the difference between the equal to and assignment operators? Describe a condition and when you would use one.\n",
    "\n",
    "Ans:-         \n",
    "        == is the equal operator to operator that compares two values and evaluates to a Boolean, \n",
    "        while = is the assignment operator that stores a value in a variable.\n",
    "        A condition is an expression used in a flow control statement that evaluates to a Boolean value.\n",
    "        \n",
    "        \n",
    "\n",
    "\n",
    "7. Identify the three blocks in this code:\n",
    "    spam = 0\n",
    "    if spam == 10:\n",
    "    print('eggs')\n",
    "    if spam > 5:\n",
    "    print('bacon')\n",
    "    else:\n",
    "    print('ham')\n",
    "    print('spam')\n",
    "    print('spam')\n",
    "\n",
    "    \n",
    "Ans:-\n",
    "     The three blocks are everything inside the if statement and the lines print('bacon') and print('ham').\n",
    "     print('eggs')\n",
    "     if spam > 5:\n",
    "     print('bacon')\n",
    "     else:\n",
    "     print('ham')\n",
    "     print('spam')  \n",
    "        \n",
    "        \n",
    " 8. Write code that prints Hello if 1 is stored in spam, prints Howdy if 2 is stored in spam, and prints\n",
    "    Greetings! if anything else is stored in spam.\n",
    "Ans:-     "
   ]
  },
  {
   "cell_type": "code",
   "execution_count": 8,
   "id": "610becf1-e301-4728-b12e-39460a718530",
   "metadata": {},
   "outputs": [
    {
     "name": "stdout",
     "output_type": "stream",
     "text": [
      "hello\n",
      "Greetings\n"
     ]
    }
   ],
   "source": [
    "spam = 1\n",
    "if spam == 1:\n",
    "  print(\"hello\")\n",
    "  if spam > 1:\n",
    "      print(\"Howdy\")\n",
    "  else:\n",
    "      print(\"Greetings\")  \n"
   ]
  },
  {
   "cell_type": "markdown",
   "id": "93f8668a-bbe8-474b-b502-777088151dc2",
   "metadata": {},
   "source": [
    "  9. If your programme is stuck in an endless loop, what keys you’ll press?\n",
    "Ans:-  \n",
    "   \n",
    "   CTR + C\n",
    "   \n",
    "   \n",
    "  10. How can you tell the difference between break and continue? \n",
    "Ans:- \n",
    "\n",
    "   The python break statement stop the loop in which the statement is placed. A python contineu statement skips a single iteration in a        loop.\n",
    "   \n",
    "   \n",
    "  11. In a for loop, what is the difference between range(10), range(0, 10), and range(0, 10, 1)?   \n",
    "Ans:- \n",
    "\n",
    "    In range(10) is generate a sequence of intergers from 0 to stop i.e., end.\n",
    "    In range(0, 10) is a generate a sequence of integers from start 0 to end in 10.\n",
    "    In range(0, 10, 1) is generate sequence of integers starting from the start number, incremented by step and stop before a stonp number.           the first number is shown 0 it means start and next means stop and next number is take step.\n",
    "    \n",
    "    \n",
    "    \n",
    "  12. Write a short program that prints the numbers 1 to 10 using a for loop. Then write an equivalent program that prints the numbers 1 to       10 using a while loop.    \n",
    "Ans:- \n"
   ]
  },
  {
   "cell_type": "code",
   "execution_count": 10,
   "id": "20bfb620-04bc-4b35-a36f-5bf5b758e502",
   "metadata": {},
   "outputs": [
    {
     "name": "stdout",
     "output_type": "stream",
     "text": [
      "1\n",
      "2\n",
      "3\n",
      "4\n",
      "5\n",
      "6\n",
      "7\n",
      "8\n",
      "9\n",
      "10\n"
     ]
    }
   ],
   "source": [
    "for i in range(1, 11):\n",
    "    print(i)"
   ]
  },
  {
   "cell_type": "code",
   "execution_count": 1,
   "id": "022aa4bf-b7d2-4b40-9f49-7558122e8fe9",
   "metadata": {},
   "outputs": [
    {
     "name": "stdout",
     "output_type": "stream",
     "text": [
      "1\n",
      "2\n",
      "3\n",
      "4\n",
      "5\n",
      "6\n",
      "7\n",
      "8\n",
      "9\n",
      "10\n"
     ]
    }
   ],
   "source": [
    "i = 1\n",
    "while(i<=10):\n",
    "   print(i) \n",
    "   i += 1"
   ]
  },
  {
   "cell_type": "markdown",
   "id": "18e705c1-21db-4489-a745-11c8a24a9662",
   "metadata": {},
   "source": [
    " \n",
    " 13. If you had a function named bacon() inside a module named spam, how would you call it after importing spam?\n",
    " \n",
    "Ans:-\n",
    "\n",
    "     \n",
    "     This function can be called with\n",
    "     \n",
    "     spam.bacon()\n",
    "     "
   ]
  },
  {
   "cell_type": "code",
   "execution_count": null,
   "id": "6ee9e512-7cf3-4112-b6b6-a87d95a15bc3",
   "metadata": {},
   "outputs": [],
   "source": []
  }
 ],
 "metadata": {
  "kernelspec": {
   "display_name": "Python 3 (ipykernel)",
   "language": "python",
   "name": "python3"
  },
  "language_info": {
   "codemirror_mode": {
    "name": "ipython",
    "version": 3
   },
   "file_extension": ".py",
   "mimetype": "text/x-python",
   "name": "python",
   "nbconvert_exporter": "python",
   "pygments_lexer": "ipython3",
   "version": "3.10.6"
  }
 },
 "nbformat": 4,
 "nbformat_minor": 5
}
