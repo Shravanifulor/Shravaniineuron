{
 "cells": [
  {
   "cell_type": "markdown",
   "id": "a2398a11-1f38-4945-9622-bbdb75ebcca1",
   "metadata": {},
   "source": [
    " Q1. What is the concept of a metaclass?\n",
    "\n",
    "Ans:-\n",
    "\n",
    "      A metaclass in Python is a class of a class that defines how a class behaves. A class is itself an instance of a metaclass. A class in       Python defines how the instance of the class will behave.\n",
    "      \n",
    "      \n",
    "      \n",
    "      \n",
    "      \n",
    "      \n",
    "      \n",
    "    \n",
    "    \n",
    "    \n",
    "    \n",
    " Q2. What is the best way to declare a class's metaclass?\n",
    " \n",
    "Ans:-\n",
    "\n",
    "       When defining a class and no metaclass is defined the default type metaclass will be used. If a metaclass is given and it is not an          instance of type() , then it is used directly as the metaclass.\n",
    "       \n",
    "       \n",
    "       \n",
    "       \n",
    "       \n",
    "       \n",
    "       \n",
    "       \n",
    " \n",
    " \n",
    " \n",
    " \n",
    " \n",
    " Q3. How do class decorators overlap with metaclasses for handling classes?\n",
    "  \n",
    "Ans:-\n",
    "\n",
    "    Decorators are much, much simpler and more limited -- and therefore should be preferred whenever the desired effect can be achieved with     either a metaclass or a class decorator.\n",
    "    \n",
    "    \n",
    "    \n",
    "    \n",
    "    \n",
    "    \n",
    "    \n",
    " Q4. How do class decorators overlap with metaclasses for handling instances?\n",
    " \n",
    "Ans:-\n",
    "\n",
    "      Decorators essentially automate the prior example's manual name rebinding here. Just like with metaclasses, because the decorator           returns the original class, instances are made from it, not from a wrapper object. In fact, instance creation is not intercepted at         all. In this specific case—adding methods to a class when it's created—the choice between metaclasses and decorators is somewhat             arbitrary. Decorators can be used to manage both instances and classes, and they intersect with metaclasses in the second of these           roles.\n",
    "\n",
    "\n",
    "      \n",
    "      "
   ]
  }
 ],
 "metadata": {
  "kernelspec": {
   "display_name": "Python 3 (ipykernel)",
   "language": "python",
   "name": "python3"
  },
  "language_info": {
   "codemirror_mode": {
    "name": "ipython",
    "version": 3
   },
   "file_extension": ".py",
   "mimetype": "text/x-python",
   "name": "python",
   "nbconvert_exporter": "python",
   "pygments_lexer": "ipython3",
   "version": "3.10.6"
  }
 },
 "nbformat": 4,
 "nbformat_minor": 5
}
