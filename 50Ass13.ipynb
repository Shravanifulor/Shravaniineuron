{
 "cells": [
  {
   "cell_type": "markdown",
   "id": "331c40d3-4250-4a2a-8132-e7414eec0cb4",
   "metadata": {},
   "source": [
    "Question 1:\n",
    "Write a program that calculates and prints the value according to the given formula:\n",
    "Q = Square root of [(2 * C * D)/H]\n",
    "Following are the fixed values of C and H:\n",
    "C is 50. H is 30.\n",
    "D is the variable whose values should be input to your program in a comma-separated\n",
    "sequence.\n",
    "Example\n",
    "Let us assume the following comma separated input sequence is given to the program:\n",
    "100,150,180\n",
    "The output of the program should be:\n",
    "18,22,24\n",
    "Ans:-"
   ]
  },
  {
   "cell_type": "code",
   "execution_count": 2,
   "id": "6eff226d-08d7-4649-87ad-1b0ea1b0a828",
   "metadata": {},
   "outputs": [
    {
     "name": "stdin",
     "output_type": "stream",
     "text": [
      "Provide D:  100\n"
     ]
    },
    {
     "name": "stdout",
     "output_type": "stream",
     "text": [
      "[18]\n"
     ]
    }
   ],
   "source": [
    "import math\n",
    "\n",
    "numbers = input(\"Provide D: \")\n",
    "numbers = numbers.split(',')\n",
    "\n",
    "result_list = []\n",
    "for D in numbers:\n",
    "    Q = round(math.sqrt(2 * 50 * int(D) / 30))\n",
    "    result_list.append(Q)\n",
    "\n",
    "print(result_list)"
   ]
  },
  {
   "cell_type": "markdown",
   "id": "b7c14474-5c22-4b12-a817-6712f8ee439b",
   "metadata": {},
   "source": [
    "Question 2:\n",
    "Write a program which takes 2 digits, X,Y as input and generates a 2-dimensional array. The\n",
    "element value in the i-th row and j-th column of the array should be i*j.\n",
    "Note: i=0,1.., X-1; j=0,1,¡Y-1.\n",
    "Example\n",
    "Suppose the following inputs are given to the program:\n",
    "3,5\n",
    "Then, the output of the program should be:\n",
    "[[0, 0, 0, 0, 0], [0, 1, 2, 3, 4], [0, 2, 4, 6, 8]]\n",
    "Ans:-"
   ]
  },
  {
   "cell_type": "code",
   "execution_count": 7,
   "id": "3cf6a44c-d371-48e6-be3b-2d798f292c23",
   "metadata": {},
   "outputs": [
    {
     "name": "stdin",
     "output_type": "stream",
     "text": [
      "Row: 3\n",
      "Column: 5\n"
     ]
    },
    {
     "name": "stdout",
     "output_type": "stream",
     "text": [
      "[[0, 0, 0, 0, 0], [0, 1, 2, 3, 4], [0, 2, 4, 6, 8]]\n"
     ]
    }
   ],
   "source": [
    "i=int(input(\"Row:\"))\n",
    "j=int(input(\"Column:\"))\n",
    "matrix=[[0 for col in range(n)] for row in range(m)]\n",
    "for row in range(m):\n",
    "    for col in range(n):\n",
    "        matrix[row][col]=row*col\n",
    "print(matrix)"
   ]
  },
  {
   "cell_type": "markdown",
   "id": "58d15bba-eabf-493f-badf-b2ddb73c3332",
   "metadata": {},
   "source": [
    "Question 3:\n",
    "Write a program that accepts a comma separated sequence of words as input and prints the\n",
    "words in a comma-separated sequence after sorting them alphabetically.\n",
    "Suppose the following input is supplied to the program:\n",
    "without,hello,bag,world\n",
    "Then, the output should be:\n",
    "bag,hello,without,world\n",
    "Ans:-"
   ]
  },
  {
   "cell_type": "code",
   "execution_count": 8,
   "id": "34a8a70b-0250-4d49-8c2d-eecae4d1548a",
   "metadata": {},
   "outputs": [
    {
     "data": {
      "text/plain": [
       "'bag,hello,without,world'"
      ]
     },
     "execution_count": 8,
     "metadata": {},
     "output_type": "execute_result"
    }
   ],
   "source": [
    "input_str='without,hello,bag,world'\n",
    "input_list=input_str.split(\",\")\n",
    "sorted_list=sorted(input_list)\n",
    "\",\".join(sorted_list)"
   ]
  },
  {
   "cell_type": "markdown",
   "id": "b7aca1cd-7a77-4ff9-a1b7-54fa2439949c",
   "metadata": {},
   "source": [
    "Question 4:\n",
    "Write a program that accepts a sequence of whitespace separated words as input and prints\n",
    "the words after removing all duplicate words and sorting them alphanumerically.\n",
    "Suppose the following input is supplied to the program:\n",
    "hello world and practice makes perfect and hello world again\n",
    "Then, the output should be:\n",
    "again and hello makes perfect practice world\n",
    "Ans:-"
   ]
  },
  {
   "cell_type": "code",
   "execution_count": 9,
   "id": "da478c0f-1b8a-43cc-96f0-3cc6292c2422",
   "metadata": {},
   "outputs": [
    {
     "name": "stdin",
     "output_type": "stream",
     "text": [
      "Type in:  hello world\n"
     ]
    },
    {
     "name": "stdout",
     "output_type": "stream",
     "text": [
      "hello world\n"
     ]
    }
   ],
   "source": [
    "phrase = input(\"Type in: \")\n",
    "phrase_splited = phrase.split(' ')\n",
    "\n",
    "word_list = []\n",
    "for i in phrase_splited:\n",
    "    if i not in word_list:\n",
    "        word_list.append(i)\n",
    "    else:\n",
    "        continue\n",
    "word_list.sort()\n",
    "print((' ').join(word_list))"
   ]
  },
  {
   "cell_type": "markdown",
   "id": "34f62492-bfed-415c-8a24-fb4edc35aefd",
   "metadata": {},
   "source": [
    "Question 5:\n",
    "Write a program that accepts a sentence and calculate the number of letters and digits.\n",
    "Suppose the following input is supplied to the program:\n",
    "hello world! 123\n",
    "Then, the output should be:\n",
    "LETTERS 10\n",
    "DIGITS 3\n",
    "Ans:-"
   ]
  },
  {
   "cell_type": "code",
   "execution_count": 10,
   "id": "8aa0b69b-2182-4791-a86c-6f651c881531",
   "metadata": {},
   "outputs": [
    {
     "name": "stdin",
     "output_type": "stream",
     "text": [
      "Type in:  hello world! 123\n"
     ]
    },
    {
     "name": "stdout",
     "output_type": "stream",
     "text": [
      "Letters: 10\n",
      "Digits: 3\n"
     ]
    }
   ],
   "source": [
    "phrase = input(\"Type in: \")\n",
    "phrase = list(phrase)\n",
    "\n",
    "l, d = 0, 0\n",
    "for i in phrase:\n",
    "    if i.isalpha():\n",
    "        l = l + 1\n",
    "    if i.isdigit():\n",
    "        d = d + 1\n",
    "    else:\n",
    "        pass\n",
    "\n",
    "print(\"Letters:\", l)\n",
    "print(\"Digits:\", d)"
   ]
  },
  {
   "cell_type": "markdown",
   "id": "38c0271a-0aea-4521-8f38-bca883d27d9c",
   "metadata": {},
   "source": [
    "Question 6:\n",
    "A website requires the users to input username and password to register. Write a program to\n",
    "check the validity of password input by users.\n",
    "Following are the criteria for checking the password:\n",
    "1. At least 1 letter between [a-z]\n",
    "2. At least 1 number between [0-9]\n",
    "1. At least 1 letter between [A-Z]\n",
    "3. At least 1 character from [$#@]\n",
    "4. Minimum length of transaction password: 6\n",
    "5. Maximum length of transaction password: 12\n",
    "Your program should accept a sequence of comma separated passwords and will check them\n",
    "according to the above criteria. Passwords that match the criteria are to be printed, each\n",
    "separated by a comma.\n",
    "Example\n",
    "If the following passwords are given as input to the program:\n",
    "ABd1234@1,a F1#,2w3E*,2We3345\n",
    "Then, the output of the program should be:\n",
    "ABd1234@1\n",
    "Ams:-"
   ]
  },
  {
   "cell_type": "markdown",
   "id": "12420808-21ae-4855-902b-4092af646f07",
   "metadata": {},
   "source": [
    "Question 6:\n",
    "A website requires the users to input username and password to register. Write a program to\n",
    "check the validity of password input by users.\n",
    "Following are the criteria for checking the password:\n",
    "1. At least 1 letter between [a-z]\n",
    "2. At least 1 number between [0-9]\n",
    "1. At least 1 letter between [A-Z]\n",
    "3. At least 1 character from [$#@]\n",
    "4. Minimum length of transaction password: 6\n",
    "5. Maximum length of transaction password: 12\n",
    "Your program should accept a sequence of comma separated passwords and will check them\n",
    "according to the above criteria. Passwords that match the criteria are to be printed, each\n",
    "separated by a comma.\n",
    "Example\n",
    "If the following passwords are given as input to the program:\n",
    "ABd1234@1,a F1#,2w3E*,2We3345\n",
    "Then, the output of the program should be:\n",
    "ABd1234@1\n",
    "Ams:-"
   ]
  },
  {
   "cell_type": "code",
   "execution_count": 14,
   "id": "643c27a7-64f2-42af-be72-d769f4956f50",
   "metadata": {},
   "outputs": [
    {
     "name": "stdin",
     "output_type": "stream",
     "text": [
      "Enter comma separated sequence of words:  Shravani@123\n"
     ]
    },
    {
     "name": "stdout",
     "output_type": "stream",
     "text": [
      "[['Shravani@123']]\n"
     ]
    }
   ],
   "source": [
    "import re\n",
    "password=input(\"Enter comma separated sequence of words: \")\n",
    "pass1=password.split(\",\")\n",
    "list(pass1)\n",
    "res=[]\n",
    "pass_seq= \"^.*(?=.{6,12})(?=.*\\d)(?=.*[a-z])(?=.*[A-Z])(?=.*[@#$]).*$\"\n",
    "for i in pass1:\n",
    "    result = re.findall(pass_seq, i)\n",
    "    if (result):\n",
    "        res.append(result)\n",
    "if not res:\n",
    "    print(\"No Valid password found\")\n",
    "else:\n",
    "    print(res)"
   ]
  }
 ],
 "metadata": {
  "kernelspec": {
   "display_name": "Python 3 (ipykernel)",
   "language": "python",
   "name": "python3"
  },
  "language_info": {
   "codemirror_mode": {
    "name": "ipython",
    "version": 3
   },
   "file_extension": ".py",
   "mimetype": "text/x-python",
   "name": "python",
   "nbconvert_exporter": "python",
   "pygments_lexer": "ipython3",
   "version": "3.10.6"
  }
 },
 "nbformat": 4,
 "nbformat_minor": 5
}
