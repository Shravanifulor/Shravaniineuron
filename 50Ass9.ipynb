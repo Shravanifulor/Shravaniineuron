{
 "cells": [
  {
   "cell_type": "markdown",
   "id": "514136e7-4d8e-49e9-9f2c-5c3e74c7858c",
   "metadata": {},
   "source": [
    "1. Write a Python program to check if the given number is a Disarium Number?\n",
    "Ans:-"
   ]
  },
  {
   "cell_type": "code",
   "execution_count": 1,
   "id": "6abcc302-75df-45f2-ae91-c01ac8cb8206",
   "metadata": {},
   "outputs": [
    {
     "name": "stdout",
     "output_type": "stream",
     "text": [
      "175 is a disarium number\n"
     ]
    }
   ],
   "source": [
    "#calculateLength() will count the digits present in a number    \n",
    "def calculateLength(n):    \n",
    "    length = 0;    \n",
    "    while(n != 0):    \n",
    "        length = length + 1;    \n",
    "        n = n//10;    \n",
    "    return length;    \n",
    "     \n",
    "num = 175;    \n",
    "rem = sum = 0;    \n",
    "len = calculateLength(num);    \n",
    "     #Makes a copy of the original number num    \n",
    "n = num;    \n",
    "     \n",
    "#Calculates the sum of digits powered with their respective position    \n",
    "while(num > 0):    \n",
    "    rem = num%10;    \n",
    "    sum = sum + int(rem**len);    \n",
    "    num = num//10;    \n",
    "    len = len - 1;    \n",
    "     \n",
    "#Checks whether the sum is equal to the number itself    \n",
    "if(sum == n):    \n",
    "    print(str(n) + \" is a disarium number\");    \n",
    "else:    \n",
    "    print(str(n) + \" is not a disarium number\");  "
   ]
  },
  {
   "cell_type": "markdown",
   "id": "e666e24f-c0b1-4454-8fe4-ff66b66663be",
   "metadata": {},
   "source": [
    "2. Write a Python programto print all disarium numbers between 1 to 100?\n",
    "Ans:-"
   ]
  },
  {
   "cell_type": "code",
   "execution_count": 2,
   "id": "fc13342b-b734-4df2-a7a8-b265b94c9634",
   "metadata": {},
   "outputs": [
    {
     "name": "stdout",
     "output_type": "stream",
     "text": [
      "Disarium numbers between 1 and 100 are\n",
      "1\n",
      "2\n",
      "3\n",
      "4\n",
      "5\n",
      "6\n",
      "7\n",
      "8\n",
      "9\n",
      "89\n"
     ]
    }
   ],
   "source": [
    "#calculateLength() will count the digits present in a number    \n",
    "def calculateLength(n):    \n",
    "    length = 0;    \n",
    "    while(n != 0):    \n",
    "        length = length + 1;    \n",
    "        n = n//10;    \n",
    "    return length;    \n",
    "     \n",
    "#sumOfDigits() will calculates the sum of digits powered with their respective position    \n",
    "def sumOfDigits(num):    \n",
    "    rem = sum = 0;    \n",
    "    len = calculateLength(num);    \n",
    "    while(num > 0):    \n",
    "        rem = num%10;    \n",
    "        sum = sum + (rem**len);    \n",
    "        num = num//10;    \n",
    "        len = len - 1;    \n",
    "    return sum;    \n",
    "      \n",
    "result = 0;    \n",
    "     \n",
    "#Displays all disarium numbers between 1 and 100    \n",
    "print(\"Disarium numbers between 1 and 100 are\");    \n",
    "for i in range(1, 101):    \n",
    "    result = sumOfDigits(i);    \n",
    "    if(result == i):    \n",
    "        print(i),   "
   ]
  },
  {
   "cell_type": "markdown",
   "id": "8619fa51-c29a-4b9f-b9d3-80283867e074",
   "metadata": {},
   "source": [
    "3. Write a Python program to check if the given number is Happy Number?\n",
    "Ans:-"
   ]
  },
  {
   "cell_type": "code",
   "execution_count": 12,
   "id": "5b678999-c29d-4161-aaa6-ceb9fd06307d",
   "metadata": {},
   "outputs": [
    {
     "name": "stdin",
     "output_type": "stream",
     "text": [
      " 10\n"
     ]
    },
    {
     "name": "stdout",
     "output_type": "stream",
     "text": [
      "happy number\n"
     ]
    }
   ],
   "source": [
    "def isHappy(n):    \n",
    "    r = s = 0;    \n",
    "    while(n > 0):    \n",
    "        r = n%10    \n",
    "        s += r**2  \n",
    "        n //= 10    \n",
    "    return s  \n",
    "        \n",
    "n = int(input())    \n",
    "res = n;    \n",
    "     \n",
    "while(res != 1 and res != 4):    \n",
    "    res = isHappy(res)    \n",
    "     \n",
    "if(res == 1):    \n",
    "    print(\"happy number\")\n",
    "elif(res == 4):    \n",
    "    print(\"not a happy number\")  "
   ]
  },
  {
   "cell_type": "markdown",
   "id": "02633762-1bfc-4079-83dc-5bdd36384cbb",
   "metadata": {},
   "source": [
    "4. Write a Python program to print all happy numbers between 1 and 100?\n",
    "Ans:-"
   ]
  },
  {
   "cell_type": "code",
   "execution_count": 17,
   "id": "736a3662-49da-47f6-8e45-93e078bbe6bd",
   "metadata": {},
   "outputs": [
    {
     "name": "stdout",
     "output_type": "stream",
     "text": [
      "The list of happy numbers between 1 and 100 are : \n",
      "1\n",
      "7\n",
      "10\n",
      "13\n",
      "19\n",
      "23\n",
      "28\n",
      "31\n",
      "32\n",
      "44\n",
      "49\n",
      "68\n",
      "70\n",
      "79\n",
      "82\n",
      "86\n",
      "91\n",
      "94\n",
      "97\n",
      "100\n"
     ]
    }
   ],
   "source": [
    "def check_happy_num(my_num):\n",
    "   remaining = sum_val = 0\n",
    "   while(my_num > 0):\n",
    "      remaining = my_num%10\n",
    "      sum_val = sum_val + (remaining*remaining)\n",
    "      my_num = my_num//10\n",
    "   return sum_val\n",
    "print(\"The list of happy numbers between 1 and 100 are : \")\n",
    "for i in range(1, 101):\n",
    "   my_result = i\n",
    "   while(my_result != 1 and my_result != 4):\n",
    "      my_result = check_happy_num(my_result)\n",
    "   if(my_result == 1):\n",
    "      print(i)"
   ]
  },
  {
   "cell_type": "markdown",
   "id": "0b61aaf2-c86d-413f-831b-531ca3bec17b",
   "metadata": {},
   "source": [
    "5. Write a Python program to determine whether the given number is a Harshad Number?\n",
    "Ans:-"
   ]
  },
  {
   "cell_type": "code",
   "execution_count": 18,
   "id": "3ee21c52-5d51-4015-91f7-c94effd97125",
   "metadata": {},
   "outputs": [
    {
     "name": "stdout",
     "output_type": "stream",
     "text": [
      "156 is a harshad number\n"
     ]
    }
   ],
   "source": [
    "num = 156;    \n",
    "rem = sum = 0;    \n",
    "     \n",
    "#Make a copy of num and store it in variable n    \n",
    "n = num;    \n",
    "     \n",
    "#Calculates sum of digits    \n",
    "while(num > 0):    \n",
    "    rem = num%10;    \n",
    "    sum = sum + rem;    \n",
    "    num = num//10;    \n",
    "    #Checks whether the number is divisible by the sum of digits    \n",
    "if(n%sum == 0):    \n",
    "    print(str(n) + \" is a harshad number\");    \n",
    "else:    \n",
    "    print(str(n) + \" is not a harshad number\");    "
   ]
  },
  {
   "cell_type": "markdown",
   "id": "db576804-285c-4890-93d9-10d4cf8b47b1",
   "metadata": {},
   "source": [
    "6. Write a Python program to print all pronic numbers between 1 and 100?\n",
    "Ans:-"
   ]
  },
  {
   "cell_type": "code",
   "execution_count": 19,
   "id": "5a4d611b-c253-4076-9a9e-31c858d56676",
   "metadata": {},
   "outputs": [
    {
     "name": "stdout",
     "output_type": "stream",
     "text": [
      "Pronic numbers between 1 and 100: \n",
      "2\n",
      " \n",
      "6\n",
      " \n",
      "12\n",
      " \n",
      "20\n",
      " \n",
      "30\n",
      " \n",
      "42\n",
      " \n",
      "56\n",
      " \n",
      "72\n",
      " \n",
      "90\n",
      " \n"
     ]
    }
   ],
   "source": [
    "def isPronicNumber(num):    \n",
    "    flag = False;    \n",
    "        \n",
    "    for j in range(1, num+1):    \n",
    "        #Checks for pronic number by multiplying consecutive numbers    \n",
    "        if((j*(j+1)) == num):    \n",
    "            flag = True;    \n",
    "            break;    \n",
    "    return flag;    \n",
    "     \n",
    "#Displays pronic numbers between 1 and 100    \n",
    "print(\"Pronic numbers between 1 and 100: \");    \n",
    "for i in range(1, 101):    \n",
    "    if(isPronicNumber(i)):    \n",
    "        print(i),    \n",
    "        print(\" \"),   "
   ]
  },
  {
   "cell_type": "code",
   "execution_count": null,
   "id": "f8a06643-5794-4874-b164-cd42342de050",
   "metadata": {},
   "outputs": [],
   "source": []
  }
 ],
 "metadata": {
  "kernelspec": {
   "display_name": "Python 3 (ipykernel)",
   "language": "python",
   "name": "python3"
  },
  "language_info": {
   "codemirror_mode": {
    "name": "ipython",
    "version": 3
   },
   "file_extension": ".py",
   "mimetype": "text/x-python",
   "name": "python",
   "nbconvert_exporter": "python",
   "pygments_lexer": "ipython3",
   "version": "3.10.6"
  }
 },
 "nbformat": 4,
 "nbformat_minor": 5
}
