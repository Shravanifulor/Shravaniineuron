{
 "cells": [
  {
   "cell_type": "markdown",
   "id": "c3c8b934-103a-464e-9d29-dca5d302b544",
   "metadata": {},
   "source": [
    "1. Write a Python program to find words which are greater than given length k?\n",
    "Ans:-"
   ]
  },
  {
   "cell_type": "code",
   "execution_count": 2,
   "id": "76d1139a-6447-4e4a-b943-f096023c4798",
   "metadata": {},
   "outputs": [
    {
     "name": "stdout",
     "output_type": "stream",
     "text": [
      "['hello', 'geeks', 'geeks', 'computer', 'science', 'portal']\n"
     ]
    }
   ],
   "source": [
    "sentence = \"hello geeks for geeks is computer science portal\"\n",
    "length = 4\n",
    "s=sentence.split()\n",
    "print([a for i,a in enumerate(s) if len(a) > length])\n"
   ]
  },
  {
   "cell_type": "markdown",
   "id": "375093fa-2e48-4ed0-b6b5-d50148af82fa",
   "metadata": {},
   "source": [
    "2. Write a Python program for removing i-th character from a string?\n",
    "Ans:-"
   ]
  },
  {
   "cell_type": "code",
   "execution_count": 3,
   "id": "70766e6c-3ecd-45a0-a502-e4472f5fa77b",
   "metadata": {},
   "outputs": [
    {
     "name": "stdout",
     "output_type": "stream",
     "text": [
      "geeksORgeeks\n"
     ]
    }
   ],
   "source": [
    "# Python3 program for removing i-th\n",
    "# indexed character from a string\n",
    "\n",
    "# Removes character at index i\n",
    "\n",
    "\n",
    "def remove(string, i):\n",
    "\n",
    "\t# Characters before the i-th indexed\n",
    "\t# is stored in a variable a\n",
    "\ta = string[: i]\n",
    "\n",
    "\t# Characters after the nth indexed\n",
    "\t# is stored in a variable b\n",
    "\tb = string[i + 1:]\n",
    "\n",
    "\t# Returning string after removing\n",
    "\t# nth indexed character.\n",
    "\treturn a + b\n",
    "\n",
    "\n",
    "# Driver Code\n",
    "if __name__ == '__main__':\n",
    "\n",
    "\tstring = \"geeksFORgeeks\"\n",
    "\n",
    "\t# Remove nth index element\n",
    "\ti = 5\n",
    "\n",
    "\t# Print the new string\n",
    "\tprint(remove(string, i))\n"
   ]
  },
  {
   "cell_type": "markdown",
   "id": "6120bdb4-3d79-402d-a6d9-7f754e0ddc37",
   "metadata": {},
   "source": [
    "3. Write a Python program to split and join a string?\n",
    "Ans:-"
   ]
  },
  {
   "cell_type": "code",
   "execution_count": 4,
   "id": "888987ed-3b46-42f6-aa60-93c2be10426e",
   "metadata": {},
   "outputs": [
    {
     "name": "stdout",
     "output_type": "stream",
     "text": [
      "['Geeks', 'for', 'Geeks']\n",
      "Geeks-for-Geeks\n"
     ]
    }
   ],
   "source": [
    "# Python program to split a string and\n",
    "# join it using different delimiter\n",
    "\n",
    "def split_string(string):\n",
    "\n",
    "\t# Split the string based on space delimiter\n",
    "\tlist_string = string.split(' ')\n",
    "\t\n",
    "\treturn list_string\n",
    "\n",
    "def join_string(list_string):\n",
    "\n",
    "\t# Join the string based on '-' delimiter\n",
    "\tstring = '-'.join(list_string)\n",
    "\t\n",
    "\treturn string\n",
    "\n",
    "# Driver Function\n",
    "if __name__ == '__main__':\n",
    "\tstring = 'Geeks for Geeks'\n",
    "\t\n",
    "\t# Splitting a string\n",
    "\tlist_string = split_string(string)\n",
    "\tprint(list_string)\n",
    "\n",
    "\t# Join list of strings into one\n",
    "\tnew_string = join_string(list_string)\n",
    "\tprint(new_string)\n",
    "\n",
    "    "
   ]
  },
  {
   "cell_type": "markdown",
   "id": "c849f27f-4b9c-41d6-b306-f11b3fab55c9",
   "metadata": {},
   "source": [
    "4. Write a Python to check if a given string is binary string or not?\n",
    "Ans:-"
   ]
  },
  {
   "cell_type": "code",
   "execution_count": 5,
   "id": "4110774b-dc26-4178-aa93-88dcdee133a9",
   "metadata": {},
   "outputs": [
    {
     "name": "stdout",
     "output_type": "stream",
     "text": [
      "Yes\n"
     ]
    }
   ],
   "source": [
    "# Python program to check\n",
    "# if a string is binary or not\n",
    "\n",
    "# function for checking the\n",
    "# string is accepted or not\n",
    "\n",
    "\n",
    "def check(string):\n",
    "\n",
    "\t# set function convert string\n",
    "\t# into set of characters .\n",
    "\tp = set(string)\n",
    "\n",
    "\t# declare set of '0', '1' .\n",
    "\ts = {'0', '1'}\n",
    "\n",
    "\t# check set p is same as set s\n",
    "\t# or set p contains only '0'\n",
    "\t# or set p contains only '1'\n",
    "\t# or not, if any one condition\n",
    "\t# is true then string is accepted\n",
    "\t# otherwise not .\n",
    "\tif s == p or p == {'0'} or p == {'1'}:\n",
    "\t\tprint(\"Yes\")\n",
    "\telse:\n",
    "\t\tprint(\"No\")\n",
    "\n",
    "\n",
    "# driver code\n",
    "if __name__ == \"__main__\":\n",
    "\n",
    "\tstring = \"101010000111\"\n",
    "\n",
    "\t# function calling\n",
    "\tcheck(string)\n"
   ]
  },
  {
   "cell_type": "markdown",
   "id": "ddce7c66-3118-477b-8802-a7194faa9b3e",
   "metadata": {},
   "source": [
    "5. Write a Python program to find uncommon words from two Strings?\n",
    "Ans:-"
   ]
  },
  {
   "cell_type": "code",
   "execution_count": 6,
   "id": "f9db5b4f-9a04-49b5-b369-ac4b92263f3b",
   "metadata": {},
   "outputs": [
    {
     "name": "stdout",
     "output_type": "stream",
     "text": [
      "['Learning', 'from']\n"
     ]
    }
   ],
   "source": [
    "# Python3 program to find a list of uncommon words\n",
    "\n",
    "# Function to return all uncommon words\n",
    "\n",
    "\n",
    "def UncommonWords(A, B):\n",
    "\n",
    "\t# count will contain all the word counts\n",
    "\tcount = {}\n",
    "\n",
    "\t# insert words of string A to hash\n",
    "\tfor word in A.split():\n",
    "\t\tcount[word] = count.get(word, 0) + 1\n",
    "\n",
    "\t# insert words of string B to hash\n",
    "\tfor word in B.split():\n",
    "\t\tcount[word] = count.get(word, 0) + 1\n",
    "\n",
    "\t# return required list of words\n",
    "\treturn [word for word in count if count[word] == 1]\n",
    "\n",
    "\n",
    "# Driver Code\n",
    "A = \"Geeks for Geeks\"\n",
    "B = \"Learning from Geeks for Geeks\"\n",
    "\n",
    "# Print required answer\n",
    "print(UncommonWords(A, B))\n"
   ]
  },
  {
   "cell_type": "markdown",
   "id": "d433058d-dd1d-45ce-b6e7-635579a135e1",
   "metadata": {},
   "source": [
    "6. Write a Python to find all duplicate characters in string?\n",
    "Ans:-"
   ]
  },
  {
   "cell_type": "code",
   "execution_count": 7,
   "id": "e7ee54a8-5b0d-406b-b0b9-4d5c9d528ab5",
   "metadata": {},
   "outputs": [
    {
     "name": "stdout",
     "output_type": "stream",
     "text": [
      "Duplicate characters in a given string: \n",
      "r\n",
      "e\n",
      "t\n",
      "s\n",
      "i\n"
     ]
    }
   ],
   "source": [
    "string = \"Great responsibility\";  \n",
    "   \n",
    "print(\"Duplicate characters in a given string: \");  \n",
    "#Counts each character present in the string  \n",
    "for i in range(0, len(string)):  \n",
    "    count = 1;  \n",
    "    for j in range(i+1, len(string)):  \n",
    "        if(string[i] == string[j] and string[i] != ' '):  \n",
    "            count = count + 1;  \n",
    "            #Set string[j] to 0 to avoid printing visited character  \n",
    "            string = string[:j] + '0' + string[j+1:];  \n",
    "   \n",
    "    #A character is considered as duplicate if count is greater than 1  \n",
    "    if(count > 1 and string[i] != '0'): \n",
    "         print(string[i]);  \n",
    "        "
   ]
  },
  {
   "cell_type": "markdown",
   "id": "0aaf08d8-8cb0-4662-8cc4-c8db4c82f1c8",
   "metadata": {},
   "source": [
    "7. Write a Python Program to check if a string contains any special character?\n",
    "Ans:-"
   ]
  },
  {
   "cell_type": "code",
   "execution_count": 10,
   "id": "b8e72dbd-f24a-4814-b73b-da0ff68a33fb",
   "metadata": {},
   "outputs": [
    {
     "name": "stdout",
     "output_type": "stream",
     "text": [
      "Hello15\n",
      "string is accepted\n"
     ]
    }
   ],
   "source": [
    "import re\n",
    "\n",
    "def find(string):\n",
    "    special_char=re.compile('[@_!$%^&*()<>?/\\|}{~:]#')\n",
    "    \n",
    "    if special_char.search(string) == None:\n",
    "        return \"string is accepted\"\n",
    "    else:\n",
    "        return \"string not accpeted\"\n",
    "   \n",
    "\n",
    "s=\"Hello15\"\n",
    "print(s)\n",
    "print(find(s))"
   ]
  },
  {
   "cell_type": "code",
   "execution_count": null,
   "id": "becb62fb-1f8e-4f0c-8160-8da07417c0bf",
   "metadata": {},
   "outputs": [],
   "source": []
  }
 ],
 "metadata": {
  "kernelspec": {
   "display_name": "Python 3 (ipykernel)",
   "language": "python",
   "name": "python3"
  },
  "language_info": {
   "codemirror_mode": {
    "name": "ipython",
    "version": 3
   },
   "file_extension": ".py",
   "mimetype": "text/x-python",
   "name": "python",
   "nbconvert_exporter": "python",
   "pygments_lexer": "ipython3",
   "version": "3.10.6"
  }
 },
 "nbformat": 4,
 "nbformat_minor": 5
}
