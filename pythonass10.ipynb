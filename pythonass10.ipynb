{
 "cells": [
  {
   "cell_type": "markdown",
   "id": "55973814-9159-4330-8021-8b6f00c6a726",
   "metadata": {},
   "source": [
    " Q1. What is the difference between __getattr__ and __getattribute__?\n",
    " \n",
    "Ans:-\n",
    "\n",
    "      __getattribute__ will be called for every access, and __getattr__ will be called for the times that __getattribute__ raised                 AttributeError .\n",
    "      \n",
    "      \n",
    "      \n",
    "      \n",
    "      \n",
    "  \n",
    "  \n",
    "  \n",
    "  \n",
    "  \n",
    " Q2. What is the difference between properties and descriptors? \n",
    "\n",
    "Ans:-\n",
    " \n",
    "      descriptors are a low-level mechanism that lets you hook into an object's attributes being accessed. Properties are a high-level             application of this; that is, properties are implemented using descriptors.\n",
    "      \n",
    "      \n",
    "      \n",
    "      \n",
    "      \n",
    "      \n",
    "      \n",
    "      \n",
    "      \n",
    "      \n",
    "      \n",
    " Q3. What are the key differences in functionality between __getattr__ and __getattribute__, as well as\n",
    "     properties and descriptors?\n",
    "\n",
    "Ans:-\n",
    "   \n",
    "      The main difference between __getattr__ and __getattribute__ is that if the attribute was not found by the usual way then __getattr__       is used. Whereas the __getattribute__ is used before looking at the actual attributes on the object.\n",
    "      \n",
    "   \n",
    "\n",
    "\n",
    "\n",
    "\n",
    "\n",
    "\n",
    "\n",
    "\n",
    "\n",
    "\n",
    "\n",
    "\n",
    "\n",
    "\n",
    "\n",
    "\n",
    "\n",
    "\n"
   ]
  },
  {
   "cell_type": "code",
   "execution_count": null,
   "id": "5978c21c-5fb4-4aa1-8178-f59c4eb6cbf7",
   "metadata": {},
   "outputs": [],
   "source": []
  }
 ],
 "metadata": {
  "kernelspec": {
   "display_name": "Python 3 (ipykernel)",
   "language": "python",
   "name": "python3"
  },
  "language_info": {
   "codemirror_mode": {
    "name": "ipython",
    "version": 3
   },
   "file_extension": ".py",
   "mimetype": "text/x-python",
   "name": "python",
   "nbconvert_exporter": "python",
   "pygments_lexer": "ipython3",
   "version": "3.10.6"
  }
 },
 "nbformat": 4,
 "nbformat_minor": 5
}
