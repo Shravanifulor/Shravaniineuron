{
 "cells": [
  {
   "cell_type": "markdown",
   "id": "32668e1e-d97e-46fd-9bb2-d4ad57e60bf2",
   "metadata": {},
   "source": [
    "Question1. Create a function that takes three arguments a, b, c and returns the sum of the\n",
    "numbers that are evenly divided by c from the range a, b inclusive.\n",
    "Examples\n",
    "evenly_divisible(1, 10, 20) ➞ 0\n",
    "# No number between 1 and 10 can be evenly divided by 20.\n",
    "evenly_divisible(1, 10, 2) ➞ 30\n",
    "# 2 + 4 + 6 + 8 + 10 = 30\n",
    "evenly_divisible(1, 10, 3) ➞ 18\n",
    "# 3 + 6 + 9 = 18\n",
    "Ans:-"
   ]
  },
  {
   "cell_type": "code",
   "execution_count": 9,
   "id": "fc573c78-d25e-402b-adf4-4be0650ac23f",
   "metadata": {},
   "outputs": [
    {
     "name": "stdin",
     "output_type": "stream",
     "text": [
      "Enter a :  1\n",
      "Enter b :  10\n",
      "Enter c :  3\n"
     ]
    },
    {
     "name": "stdout",
     "output_type": "stream",
     "text": [
      "18\n"
     ]
    }
   ],
   "source": [
    "def sumDivisibles(a, b, c):     \n",
    "    sum = 0\n",
    "    for i in range(a, b + 1): \n",
    "        if (i % c == 0):\n",
    "            sum += i \n",
    "    return sum\n",
    "a = int(input('Enter a : '))\n",
    "b = int(input('Enter b : '))\n",
    "c = int(input('Enter c : '))\n",
    "print(sumDivisibles(a, b, c))"
   ]
  },
  {
   "cell_type": "markdown",
   "id": "74935cd7-2a06-4ccd-946d-48e539310707",
   "metadata": {},
   "source": [
    "Question2. Create a function that returns True if a given inequality expression is correct and\n",
    "False otherwise.\n",
    "Examples\n",
    "correct_signs(\"3< 7 < 11\") ➞ True\n",
    "correct_signs(\"13 > 44 > 33 > 1&\") ➞ False\n",
    "correct_signs(\"1  < 2 < 6 < 9 > 3\") ➞ True\n",
    "Ans:-"
   ]
  },
  {
   "cell_type": "code",
   "execution_count": 10,
   "id": "aaaf9138-8529-4329-b11a-bb35923a0f0e",
   "metadata": {},
   "outputs": [
    {
     "name": "stdout",
     "output_type": "stream",
     "text": [
      "False\n",
      "False\n",
      "True\n"
     ]
    }
   ],
   "source": [
    "def correct_signs ( txt ) : \n",
    "    return eval ( txt )\n",
    "print(correct_signs(\"3 > 7 < 11\"))\n",
    "print(correct_signs(\"13 > 44 > 33 > 1\"))\n",
    "print(correct_signs(\"1 < 2 < 6 < 9 > 3\"))"
   ]
  },
  {
   "cell_type": "markdown",
   "id": "242af54a-b912-4cec-a7d9-367bd41c3552",
   "metadata": {},
   "source": [
    "Question3. Create a function that replaces all the vowels in a string with a specified character.\n",
    "Examples\n",
    "replace_vowels(\"the aardvark\", \"#\") ➞ \"th# ##rdv#rk\"\n",
    "replace_vowels(\"minnie mouse\", \"?\") ➞ \"m?nn?? m??s?\"\n",
    "replace_vowels(\"shakespeare\", \"*\") ➞ \"sh*k*sp**r*\"\n",
    "Ans:-"
   ]
  },
  {
   "cell_type": "code",
   "execution_count": 11,
   "id": "7270416a-2074-4cad-9cee-b17207a5622b",
   "metadata": {},
   "outputs": [
    {
     "name": "stdin",
     "output_type": "stream",
     "text": [
      "enter a string :  akash\n",
      "enter a vowel replacing string :  @\n"
     ]
    },
    {
     "name": "stdout",
     "output_type": "stream",
     "text": [
      "\n",
      "Given Sting: akash\n",
      "Given Specified Character: @\n",
      "Afer replacing vowels with the specified character: @k@sh\n"
     ]
    }
   ],
   "source": [
    "def replace_vowels(str, s):\n",
    "    vowels = 'AEIOUaeiou'\n",
    "    for ele in vowels:  \n",
    "        str = str.replace(ele, s)  \n",
    "    return str\n",
    "  \n",
    "input_str = input(\"enter a string : \")\n",
    "s = input(\"enter a vowel replacing string : \")\n",
    "print(\"\\nGiven Sting:\", input_str)\n",
    "print(\"Given Specified Character:\", s)\n",
    "print(\"Afer replacing vowels with the specified character:\",replace_vowels(input_str, s))"
   ]
  },
  {
   "cell_type": "code",
   "execution_count": null,
   "id": "643dc41c-8ae6-4153-a2b5-70de387eb033",
   "metadata": {},
   "outputs": [],
   "source": [
    "Question4. Write a function that calculates the factorial of a number recursively.\n",
    "Examples\n",
    "factorial(5) ➞ 120\n",
    "factorial(3) ➞ 6\n",
    "factorial(1) ➞ 1\n",
    "factorial(0) ➞ 1\n",
    "Ans:-"
   ]
  },
  {
   "cell_type": "code",
   "execution_count": 12,
   "id": "f37906c9-a28d-4657-95a9-188220ad57c9",
   "metadata": {},
   "outputs": [
    {
     "name": "stdin",
     "output_type": "stream",
     "text": [
      "enter a number : 5\n"
     ]
    },
    {
     "name": "stdout",
     "output_type": "stream",
     "text": [
      "Factorial of 5 is 120\n"
     ]
    }
   ],
   "source": [
    "def factorial(n):     \n",
    "    if n == 0:\n",
    "        return 1    \n",
    "    return n * factorial(n-1)\n",
    "\n",
    "num = int(input('enter a number :'))\n",
    "print(\"Factorial of\", num, \"is\", factorial(num))"
   ]
  },
  {
   "cell_type": "markdown",
   "id": "93b58b09-a1e9-4db6-a103-a5b367e2f30f",
   "metadata": {},
   "source": [
    "Question 5\n",
    "Hamming distance is the number of characters that differ between two strings.\n",
    "To illustrate:\n",
    "String1: \"abcbba\"\n",
    "String2: \"abcbda\"\n",
    "Hamming Distance: 1 - \"b\" vs. \"d\" is the only difference.\n",
    "Create a function that computes the hamming distance between two strings.\n",
    "Examples\n",
    "hamming_distance(\"abcde\", \"bcdef\") ➞ 5\n",
    "hamming_distance(\"abcde\", \"abcde\") ➞ 0\n",
    "hamming_distance(\"strong\", \"strung\") ➞ 1\n",
    "Ans:-"
   ]
  },
  {
   "cell_type": "code",
   "execution_count": 13,
   "id": "6cd522d9-065b-4eaf-93ee-fa42b469fded",
   "metadata": {},
   "outputs": [
    {
     "name": "stdout",
     "output_type": "stream",
     "text": [
      "5\n"
     ]
    }
   ],
   "source": [
    "def hamming_distance(str1, str2):\n",
    "    i = 0\n",
    "    count = 0\n",
    " \n",
    "    while(i < len(str1)):\n",
    "        if(str1[i] != str2[i]):\n",
    "            count += 1\n",
    "        i += 1\n",
    "    return count\n",
    " \n",
    "# Driver code \n",
    "str1 = \"abcde\"\n",
    "str2 = \"bcdef\"\n",
    " \n",
    "# function call\n",
    "print(hamming_distance(str1, str2))"
   ]
  },
  {
   "cell_type": "code",
   "execution_count": 14,
   "id": "8d980cf7-8207-4561-85da-3a85e6b34350",
   "metadata": {},
   "outputs": [
    {
     "name": "stdout",
     "output_type": "stream",
     "text": [
      "1\n"
     ]
    }
   ],
   "source": [
    "print(hamming_distance('strong', 'strung'))"
   ]
  },
  {
   "cell_type": "code",
   "execution_count": 15,
   "id": "a97c5eda-c43f-4476-bc2d-6821de5dd7e5",
   "metadata": {},
   "outputs": [
    {
     "data": {
      "text/plain": [
       "0"
      ]
     },
     "execution_count": 15,
     "metadata": {},
     "output_type": "execute_result"
    }
   ],
   "source": [
    "hamming_distance('abcde', 'abcde')"
   ]
  }
 ],
 "metadata": {
  "kernelspec": {
   "display_name": "Python 3 (ipykernel)",
   "language": "python",
   "name": "python3"
  },
  "language_info": {
   "codemirror_mode": {
    "name": "ipython",
    "version": 3
   },
   "file_extension": ".py",
   "mimetype": "text/x-python",
   "name": "python",
   "nbconvert_exporter": "python",
   "pygments_lexer": "ipython3",
   "version": "3.10.6"
  }
 },
 "nbformat": 4,
 "nbformat_minor": 5
}
